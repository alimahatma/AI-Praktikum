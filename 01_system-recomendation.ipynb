{
 "cells": [
  {
   "cell_type": "code",
   "execution_count": 1,
   "id": "de4d4077",
   "metadata": {},
   "outputs": [
    {
     "name": "stderr",
     "output_type": "stream",
     "text": [
      "C:\\Users\\myComputer\\AppData\\Roaming\\Python\\Python39\\site-packages\\pandas\\core\\computation\\expressions.py:21: UserWarning: Pandas requires version '2.8.4' or newer of 'numexpr' (version '2.8.3' currently installed).\n",
      "  from pandas.core.computation.check import NUMEXPR_INSTALLED\n",
      "C:\\Users\\myComputer\\AppData\\Roaming\\Python\\Python39\\site-packages\\pandas\\core\\arrays\\masked.py:60: UserWarning: Pandas requires version '1.3.6' or newer of 'bottleneck' (version '1.3.5' currently installed).\n",
      "  from pandas.core import (\n"
     ]
    }
   ],
   "source": [
    "import pandas as pd\n",
    "import numpy as np\n",
    "import matplotlib.pyplot as plt"
   ]
  },
  {
   "cell_type": "markdown",
   "id": "5941f92c",
   "metadata": {},
   "source": [
    "# LOAD DATA"
   ]
  },
  {
   "cell_type": "code",
   "execution_count": 2,
   "id": "1ddf7442",
   "metadata": {},
   "outputs": [
    {
     "name": "stdout",
     "output_type": "stream",
     "text": [
      "<class 'pandas.core.frame.DataFrame'>\n",
      "RangeIndex: 34886 entries, 0 to 34885\n",
      "Data columns (total 8 columns):\n",
      " #   Column            Non-Null Count  Dtype \n",
      "---  ------            --------------  ----- \n",
      " 0   Release Year      34886 non-null  int64 \n",
      " 1   Title             34886 non-null  object\n",
      " 2   Origin/Ethnicity  34886 non-null  object\n",
      " 3   Director          34886 non-null  object\n",
      " 4   Cast              33464 non-null  object\n",
      " 5   Genre             34886 non-null  object\n",
      " 6   Wiki Page         34886 non-null  object\n",
      " 7   Plot              34886 non-null  object\n",
      "dtypes: int64(1), object(7)\n",
      "memory usage: 2.1+ MB\n"
     ]
    }
   ],
   "source": [
    "df = pd.read_csv('datasets/wiki_movie_plots_deduped.csv')\n",
    "df.info()"
   ]
  },
  {
   "cell_type": "code",
   "execution_count": 3,
   "id": "49b47ef6",
   "metadata": {},
   "outputs": [
    {
     "data": {
      "text/html": [
       "<div>\n",
       "<style scoped>\n",
       "    .dataframe tbody tr th:only-of-type {\n",
       "        vertical-align: middle;\n",
       "    }\n",
       "\n",
       "    .dataframe tbody tr th {\n",
       "        vertical-align: top;\n",
       "    }\n",
       "\n",
       "    .dataframe thead th {\n",
       "        text-align: right;\n",
       "    }\n",
       "</style>\n",
       "<table border=\"1\" class=\"dataframe\">\n",
       "  <thead>\n",
       "    <tr style=\"text-align: right;\">\n",
       "      <th></th>\n",
       "      <th>Release Year</th>\n",
       "      <th>Title</th>\n",
       "      <th>Origin/Ethnicity</th>\n",
       "      <th>Director</th>\n",
       "      <th>Cast</th>\n",
       "      <th>Genre</th>\n",
       "      <th>Wiki Page</th>\n",
       "      <th>Plot</th>\n",
       "    </tr>\n",
       "  </thead>\n",
       "  <tbody>\n",
       "    <tr>\n",
       "      <th>0</th>\n",
       "      <td>1901</td>\n",
       "      <td>Kansas Saloon Smashers</td>\n",
       "      <td>American</td>\n",
       "      <td>Unknown</td>\n",
       "      <td>NaN</td>\n",
       "      <td>unknown</td>\n",
       "      <td>https://en.wikipedia.org/wiki/Kansas_Saloon_Sm...</td>\n",
       "      <td>A bartender is working at a saloon, serving dr...</td>\n",
       "    </tr>\n",
       "    <tr>\n",
       "      <th>1</th>\n",
       "      <td>1901</td>\n",
       "      <td>Love by the Light of the Moon</td>\n",
       "      <td>American</td>\n",
       "      <td>Unknown</td>\n",
       "      <td>NaN</td>\n",
       "      <td>unknown</td>\n",
       "      <td>https://en.wikipedia.org/wiki/Love_by_the_Ligh...</td>\n",
       "      <td>The moon, painted with a smiling face hangs ov...</td>\n",
       "    </tr>\n",
       "    <tr>\n",
       "      <th>2</th>\n",
       "      <td>1901</td>\n",
       "      <td>The Martyred Presidents</td>\n",
       "      <td>American</td>\n",
       "      <td>Unknown</td>\n",
       "      <td>NaN</td>\n",
       "      <td>unknown</td>\n",
       "      <td>https://en.wikipedia.org/wiki/The_Martyred_Pre...</td>\n",
       "      <td>The film, just over a minute long, is composed...</td>\n",
       "    </tr>\n",
       "    <tr>\n",
       "      <th>3</th>\n",
       "      <td>1901</td>\n",
       "      <td>Terrible Teddy, the Grizzly King</td>\n",
       "      <td>American</td>\n",
       "      <td>Unknown</td>\n",
       "      <td>NaN</td>\n",
       "      <td>unknown</td>\n",
       "      <td>https://en.wikipedia.org/wiki/Terrible_Teddy,_...</td>\n",
       "      <td>Lasting just 61 seconds and consisting of two ...</td>\n",
       "    </tr>\n",
       "    <tr>\n",
       "      <th>4</th>\n",
       "      <td>1902</td>\n",
       "      <td>Jack and the Beanstalk</td>\n",
       "      <td>American</td>\n",
       "      <td>George S. Fleming, Edwin S. Porter</td>\n",
       "      <td>NaN</td>\n",
       "      <td>unknown</td>\n",
       "      <td>https://en.wikipedia.org/wiki/Jack_and_the_Bea...</td>\n",
       "      <td>The earliest known adaptation of the classic f...</td>\n",
       "    </tr>\n",
       "  </tbody>\n",
       "</table>\n",
       "</div>"
      ],
      "text/plain": [
       "   Release Year                             Title Origin/Ethnicity  \\\n",
       "0          1901            Kansas Saloon Smashers         American   \n",
       "1          1901     Love by the Light of the Moon         American   \n",
       "2          1901           The Martyred Presidents         American   \n",
       "3          1901  Terrible Teddy, the Grizzly King         American   \n",
       "4          1902            Jack and the Beanstalk         American   \n",
       "\n",
       "                             Director Cast    Genre  \\\n",
       "0                             Unknown  NaN  unknown   \n",
       "1                             Unknown  NaN  unknown   \n",
       "2                             Unknown  NaN  unknown   \n",
       "3                             Unknown  NaN  unknown   \n",
       "4  George S. Fleming, Edwin S. Porter  NaN  unknown   \n",
       "\n",
       "                                           Wiki Page  \\\n",
       "0  https://en.wikipedia.org/wiki/Kansas_Saloon_Sm...   \n",
       "1  https://en.wikipedia.org/wiki/Love_by_the_Ligh...   \n",
       "2  https://en.wikipedia.org/wiki/The_Martyred_Pre...   \n",
       "3  https://en.wikipedia.org/wiki/Terrible_Teddy,_...   \n",
       "4  https://en.wikipedia.org/wiki/Jack_and_the_Bea...   \n",
       "\n",
       "                                                Plot  \n",
       "0  A bartender is working at a saloon, serving dr...  \n",
       "1  The moon, painted with a smiling face hangs ov...  \n",
       "2  The film, just over a minute long, is composed...  \n",
       "3  Lasting just 61 seconds and consisting of two ...  \n",
       "4  The earliest known adaptation of the classic f...  "
      ]
     },
     "execution_count": 3,
     "metadata": {},
     "output_type": "execute_result"
    }
   ],
   "source": [
    "df.head()"
   ]
  },
  {
   "cell_type": "markdown",
   "id": "9bbf6f3a",
   "metadata": {},
   "source": [
    "# DESKRIPSI DATA"
   ]
  },
  {
   "cell_type": "code",
   "execution_count": 4,
   "id": "d5deb2b5",
   "metadata": {},
   "outputs": [
    {
     "data": {
      "text/plain": [
       "(34886, 8)"
      ]
     },
     "execution_count": 4,
     "metadata": {},
     "output_type": "execute_result"
    }
   ],
   "source": [
    "df.shape"
   ]
  },
  {
   "cell_type": "code",
   "execution_count": 5,
   "id": "7ced6be4",
   "metadata": {},
   "outputs": [
    {
     "data": {
      "text/plain": [
       "array(['American', 'Assamese', 'Australian', 'Bangladeshi', 'Bengali',\n",
       "       'Bollywood', 'British', 'Canadian', 'Chinese', 'Egyptian',\n",
       "       'Filipino', 'Hong Kong', 'Japanese', 'Kannada', 'Malayalam',\n",
       "       'Malaysian', 'Maldivian', 'Marathi', 'Punjabi', 'Russian',\n",
       "       'South_Korean', 'Tamil', 'Telugu', 'Turkish'], dtype=object)"
      ]
     },
     "execution_count": 5,
     "metadata": {},
     "output_type": "execute_result"
    }
   ],
   "source": [
    "np.unique(df['Origin/Ethnicity'])"
   ]
  },
  {
   "cell_type": "code",
   "execution_count": 6,
   "id": "9fdc31b8",
   "metadata": {},
   "outputs": [
    {
     "data": {
      "image/png": "[encoded data removed]",
      "text/plain": [
       "<Figure size 1000x600 with 1 Axes>"
      ]
     },
     "metadata": {},
     "output_type": "display_data"
    }
   ],
   "source": [
    "country_counts = df['Origin/Ethnicity'].value_counts()\n",
    "top_countries = country_counts\n",
    "\n",
    "plt.figure(figsize=(10,6))\n",
    "top_countries.plot(kind='bar')\n",
    "plt.title('Top Negara Dengan Jumlah Release Film Terbanyak')\n",
    "plt.xlabel('Country')\n",
    "plt.ylabel('Jumlah Release Film')\n",
    "plt.xticks(rotation=45)\n",
    "plt.tight_layout()"
   ]
  },
  {
   "cell_type": "code",
   "execution_count": 7,
   "id": "a250a469",
   "metadata": {},
   "outputs": [],
   "source": [
    "#chose only some portion of data\n",
    "# data = df.loc[(df['Origin/Ethnicity']=='American')\n",
    "data = df.loc[(df['Origin/Ethnicity']=='American') & (df['Release Year']>2000)]"
   ]
  },
  {
   "cell_type": "code",
   "execution_count": 8,
   "id": "7492d9a7",
   "metadata": {},
   "outputs": [
    {
     "data": {
      "text/plain": [
       "3595"
      ]
     },
     "execution_count": 8,
     "metadata": {},
     "output_type": "execute_result"
    }
   ],
   "source": [
    "len(data)"
   ]
  },
  {
   "cell_type": "code",
   "execution_count": 9,
   "id": "514aed5a",
   "metadata": {},
   "outputs": [
    {
     "data": {
      "text/html": [
       "<div>\n",
       "<style scoped>\n",
       "    .dataframe tbody tr th:only-of-type {\n",
       "        vertical-align: middle;\n",
       "    }\n",
       "\n",
       "    .dataframe tbody tr th {\n",
       "        vertical-align: top;\n",
       "    }\n",
       "\n",
       "    .dataframe thead th {\n",
       "        text-align: right;\n",
       "    }\n",
       "</style>\n",
       "<table border=\"1\" class=\"dataframe\">\n",
       "  <thead>\n",
       "    <tr style=\"text-align: right;\">\n",
       "      <th></th>\n",
       "      <th>Release Year</th>\n",
       "      <th>Title</th>\n",
       "      <th>Origin/Ethnicity</th>\n",
       "      <th>Director</th>\n",
       "      <th>Cast</th>\n",
       "      <th>Genre</th>\n",
       "      <th>Wiki Page</th>\n",
       "      <th>Plot</th>\n",
       "    </tr>\n",
       "  </thead>\n",
       "  <tbody>\n",
       "    <tr>\n",
       "      <th>13782</th>\n",
       "      <td>2001</td>\n",
       "      <td>15 Minutes</td>\n",
       "      <td>American</td>\n",
       "      <td>John Herzfeld</td>\n",
       "      <td>Robert De Niro, Edward Burns, Kelsey Grammer</td>\n",
       "      <td>action, crime</td>\n",
       "      <td>https://en.wikipedia.org/wiki/15_Minutes</td>\n",
       "      <td>Ex-convicts Emil Slovak (Karel Roden) and Oleg...</td>\n",
       "    </tr>\n",
       "    <tr>\n",
       "      <th>13783</th>\n",
       "      <td>2001</td>\n",
       "      <td>3000 Miles to Graceland</td>\n",
       "      <td>American</td>\n",
       "      <td>Demian Lichtenstein</td>\n",
       "      <td>Kurt Russell, Kevin Costner, Courteney Cox, Ch...</td>\n",
       "      <td>action, crime</td>\n",
       "      <td>https://en.wikipedia.org/wiki/3000_Miles_to_Gr...</td>\n",
       "      <td>Outside of Las Vegas, Michael Zane, a recent p...</td>\n",
       "    </tr>\n",
       "    <tr>\n",
       "      <th>13784</th>\n",
       "      <td>2001</td>\n",
       "      <td>A.I. Artificial Intelligence</td>\n",
       "      <td>American</td>\n",
       "      <td>Steven Spielberg</td>\n",
       "      <td>Jude Law, Haley Joel Osment, William Hurt, Fra...</td>\n",
       "      <td>science fiction</td>\n",
       "      <td>https://en.wikipedia.org/wiki/A.I._Artificial_...</td>\n",
       "      <td>In the late 22nd century, rising sea levels fr...</td>\n",
       "    </tr>\n",
       "    <tr>\n",
       "      <th>13785</th>\n",
       "      <td>2001</td>\n",
       "      <td>The Affair of the Necklace</td>\n",
       "      <td>American</td>\n",
       "      <td>Charles Shyer</td>\n",
       "      <td>Hilary Swank, Jonathan Pryce, Adrien Brody</td>\n",
       "      <td>drama</td>\n",
       "      <td>https://en.wikipedia.org/wiki/The_Affair_of_th...</td>\n",
       "      <td>Jeanne de Saint-Rémy de Valois, orphaned at an...</td>\n",
       "    </tr>\n",
       "    <tr>\n",
       "      <th>13786</th>\n",
       "      <td>2001</td>\n",
       "      <td>Ali</td>\n",
       "      <td>American</td>\n",
       "      <td>Michael Mann</td>\n",
       "      <td>Will Smith, Jamie Foxx, Jon Voight, Mario Van ...</td>\n",
       "      <td>drama, biography</td>\n",
       "      <td>https://en.wikipedia.org/wiki/Ali_(film)</td>\n",
       "      <td>The film begins with Cassius Clay, Jr. before ...</td>\n",
       "    </tr>\n",
       "  </tbody>\n",
       "</table>\n",
       "</div>"
      ],
      "text/plain": [
       "       Release Year                          Title Origin/Ethnicity  \\\n",
       "13782          2001                     15 Minutes         American   \n",
       "13783          2001        3000 Miles to Graceland         American   \n",
       "13784          2001   A.I. Artificial Intelligence         American   \n",
       "13785          2001     The Affair of the Necklace         American   \n",
       "13786          2001                            Ali         American   \n",
       "\n",
       "                  Director                                               Cast  \\\n",
       "13782        John Herzfeld       Robert De Niro, Edward Burns, Kelsey Grammer   \n",
       "13783  Demian Lichtenstein  Kurt Russell, Kevin Costner, Courteney Cox, Ch...   \n",
       "13784     Steven Spielberg  Jude Law, Haley Joel Osment, William Hurt, Fra...   \n",
       "13785        Charles Shyer         Hilary Swank, Jonathan Pryce, Adrien Brody   \n",
       "13786         Michael Mann  Will Smith, Jamie Foxx, Jon Voight, Mario Van ...   \n",
       "\n",
       "                  Genre                                          Wiki Page  \\\n",
       "13782     action, crime           https://en.wikipedia.org/wiki/15_Minutes   \n",
       "13783     action, crime  https://en.wikipedia.org/wiki/3000_Miles_to_Gr...   \n",
       "13784   science fiction  https://en.wikipedia.org/wiki/A.I._Artificial_...   \n",
       "13785             drama  https://en.wikipedia.org/wiki/The_Affair_of_th...   \n",
       "13786  drama, biography           https://en.wikipedia.org/wiki/Ali_(film)   \n",
       "\n",
       "                                                    Plot  \n",
       "13782  Ex-convicts Emil Slovak (Karel Roden) and Oleg...  \n",
       "13783  Outside of Las Vegas, Michael Zane, a recent p...  \n",
       "13784  In the late 22nd century, rising sea levels fr...  \n",
       "13785  Jeanne de Saint-Rémy de Valois, orphaned at an...  \n",
       "13786  The film begins with Cassius Clay, Jr. before ...  "
      ]
     },
     "execution_count": 9,
     "metadata": {},
     "output_type": "execute_result"
    }
   ],
   "source": [
    "data.head()"
   ]
  },
  {
   "cell_type": "code",
   "execution_count": 10,
   "id": "f6a4d687",
   "metadata": {},
   "outputs": [],
   "source": [
    "datasets = df[['Title','Plot']]\n",
    "datasets = datasets.set_index('Title')"
   ]
  },
  {
   "cell_type": "code",
   "execution_count": 11,
   "id": "cac1c785",
   "metadata": {},
   "outputs": [
    {
     "data": {
      "text/html": [
       "<div>\n",
       "<style scoped>\n",
       "    .dataframe tbody tr th:only-of-type {\n",
       "        vertical-align: middle;\n",
       "    }\n",
       "\n",
       "    .dataframe tbody tr th {\n",
       "        vertical-align: top;\n",
       "    }\n",
       "\n",
       "    .dataframe thead th {\n",
       "        text-align: right;\n",
       "    }\n",
       "</style>\n",
       "<table border=\"1\" class=\"dataframe\">\n",
       "  <thead>\n",
       "    <tr style=\"text-align: right;\">\n",
       "      <th></th>\n",
       "      <th>Plot</th>\n",
       "    </tr>\n",
       "    <tr>\n",
       "      <th>Title</th>\n",
       "      <th></th>\n",
       "    </tr>\n",
       "  </thead>\n",
       "  <tbody>\n",
       "    <tr>\n",
       "      <th>Kansas Saloon Smashers</th>\n",
       "      <td>A bartender is working at a saloon, serving dr...</td>\n",
       "    </tr>\n",
       "    <tr>\n",
       "      <th>Love by the Light of the Moon</th>\n",
       "      <td>The moon, painted with a smiling face hangs ov...</td>\n",
       "    </tr>\n",
       "    <tr>\n",
       "      <th>The Martyred Presidents</th>\n",
       "      <td>The film, just over a minute long, is composed...</td>\n",
       "    </tr>\n",
       "    <tr>\n",
       "      <th>Terrible Teddy, the Grizzly King</th>\n",
       "      <td>Lasting just 61 seconds and consisting of two ...</td>\n",
       "    </tr>\n",
       "    <tr>\n",
       "      <th>Jack and the Beanstalk</th>\n",
       "      <td>The earliest known adaptation of the classic f...</td>\n",
       "    </tr>\n",
       "    <tr>\n",
       "      <th>Alice in Wonderland</th>\n",
       "      <td>Alice follows a large white rabbit down a \"Rab...</td>\n",
       "    </tr>\n",
       "    <tr>\n",
       "      <th>The Great Train Robbery</th>\n",
       "      <td>The film opens with two bandits breaking into ...</td>\n",
       "    </tr>\n",
       "    <tr>\n",
       "      <th>The Suburbanite</th>\n",
       "      <td>The film is about a family who move to the sub...</td>\n",
       "    </tr>\n",
       "    <tr>\n",
       "      <th>The Little Train Robbery</th>\n",
       "      <td>The opening scene shows the interior of the ro...</td>\n",
       "    </tr>\n",
       "    <tr>\n",
       "      <th>The Night Before Christmas</th>\n",
       "      <td>Scenes are introduced using lines of the poem....</td>\n",
       "    </tr>\n",
       "    <tr>\n",
       "      <th>Dream of a Rarebit Fiend</th>\n",
       "      <td>The Rarebit Fiend gorges on Welsh rarebit at a...</td>\n",
       "    </tr>\n",
       "    <tr>\n",
       "      <th>From Leadville to Aspen: A Hold-Up in the Rockies</th>\n",
       "      <td>The film features a train traveling through th...</td>\n",
       "    </tr>\n",
       "    <tr>\n",
       "      <th>Kathleen Mavourneen</th>\n",
       "      <td>Irish villager Kathleen is a tenant of Captain...</td>\n",
       "    </tr>\n",
       "    <tr>\n",
       "      <th>Daniel Boone</th>\n",
       "      <td>Boone's daughter befriends an Indian maiden as...</td>\n",
       "    </tr>\n",
       "    <tr>\n",
       "      <th>How Brown Saw the Baseball Game</th>\n",
       "      <td>Before heading out to a baseball game at a nea...</td>\n",
       "    </tr>\n",
       "    <tr>\n",
       "      <th>Laughing Gas</th>\n",
       "      <td>The plot is that of a black woman going to the...</td>\n",
       "    </tr>\n",
       "    <tr>\n",
       "      <th>The Adventures of Dollie</th>\n",
       "      <td>On a beautiful summer day a father and mother ...</td>\n",
       "    </tr>\n",
       "    <tr>\n",
       "      <th>The Black Viper</th>\n",
       "      <td>A thug accosts a girl as she leaves her workpl...</td>\n",
       "    </tr>\n",
       "    <tr>\n",
       "      <th>A Calamitous Elopement</th>\n",
       "      <td>A young couple decides to elope after being ca...</td>\n",
       "    </tr>\n",
       "    <tr>\n",
       "      <th>The Call of the Wild</th>\n",
       "      <td>A white girl (Florence Lawrence) rejects a pro...</td>\n",
       "    </tr>\n",
       "    <tr>\n",
       "      <th>A Christmas Carol</th>\n",
       "      <td>No prints of the first American film adaptatio...</td>\n",
       "    </tr>\n",
       "    <tr>\n",
       "      <th>The Fight for Freedom</th>\n",
       "      <td>The film opens in a town on the Mexican border...</td>\n",
       "    </tr>\n",
       "    <tr>\n",
       "      <th>At the Altar</th>\n",
       "      <td>A rejected admirer sets up a trap to kill his ...</td>\n",
       "    </tr>\n",
       "    <tr>\n",
       "      <th>A Drunkard's Reformation</th>\n",
       "      <td>John Wharton, the husband of a true and trusti...</td>\n",
       "    </tr>\n",
       "    <tr>\n",
       "      <th>The Golden Louis</th>\n",
       "      <td>An old woman sends a girl begging in the stree...</td>\n",
       "    </tr>\n",
       "  </tbody>\n",
       "</table>\n",
       "</div>"
      ],
      "text/plain": [
       "                                                                                                Plot\n",
       "Title                                                                                               \n",
       "Kansas Saloon Smashers                             A bartender is working at a saloon, serving dr...\n",
       "Love by the Light of the Moon                      The moon, painted with a smiling face hangs ov...\n",
       "The Martyred Presidents                            The film, just over a minute long, is composed...\n",
       "Terrible Teddy, the Grizzly King                   Lasting just 61 seconds and consisting of two ...\n",
       "Jack and the Beanstalk                             The earliest known adaptation of the classic f...\n",
       "Alice in Wonderland                                Alice follows a large white rabbit down a \"Rab...\n",
       "The Great Train Robbery                            The film opens with two bandits breaking into ...\n",
       "The Suburbanite                                    The film is about a family who move to the sub...\n",
       "The Little Train Robbery                           The opening scene shows the interior of the ro...\n",
       "The Night Before Christmas                         Scenes are introduced using lines of the poem....\n",
       "Dream of a Rarebit Fiend                           The Rarebit Fiend gorges on Welsh rarebit at a...\n",
       "From Leadville to Aspen: A Hold-Up in the Rockies  The film features a train traveling through th...\n",
       "Kathleen Mavourneen                                Irish villager Kathleen is a tenant of Captain...\n",
       "Daniel Boone                                       Boone's daughter befriends an Indian maiden as...\n",
       "How Brown Saw the Baseball Game                    Before heading out to a baseball game at a nea...\n",
       "Laughing Gas                                       The plot is that of a black woman going to the...\n",
       "The Adventures of Dollie                           On a beautiful summer day a father and mother ...\n",
       "The Black Viper                                    A thug accosts a girl as she leaves her workpl...\n",
       "A Calamitous Elopement                             A young couple decides to elope after being ca...\n",
       "The Call of the Wild                               A white girl (Florence Lawrence) rejects a pro...\n",
       "A Christmas Carol                                  No prints of the first American film adaptatio...\n",
       "The Fight for Freedom                              The film opens in a town on the Mexican border...\n",
       "At the Altar                                       A rejected admirer sets up a trap to kill his ...\n",
       "A Drunkard's Reformation                           John Wharton, the husband of a true and trusti...\n",
       "The Golden Louis                                   An old woman sends a girl begging in the stree..."
      ]
     },
     "execution_count": 11,
     "metadata": {},
     "output_type": "execute_result"
    }
   ],
   "source": [
    "datasets.head(25)"
   ]
  },
  {
   "cell_type": "code",
   "execution_count": 12,
   "id": "32f10941",
   "metadata": {},
   "outputs": [
    {
     "data": {
      "text/plain": [
       "\"A bartender is working at a saloon, serving drinks to customers. After he fills a stereotypically Irish man's bucket with beer, Carrie Nation and her followers burst inside. They assault the Irish man, pulling his hat over his eyes and then dumping the beer over his head. The group then begin wrecking the bar, smashing the fixtures, mirrors, and breaking the cash register. The bartender then sprays seltzer water in Nation's face before a group of policemen appear and order everybody to leave.[1]\""
      ]
     },
     "execution_count": 12,
     "metadata": {},
     "output_type": "execute_result"
    }
   ],
   "source": [
    "datasets[\"Plot\"][\"Kansas Saloon Smashers\"]"
   ]
  },
  {
   "cell_type": "markdown",
   "id": "c552eec0",
   "metadata": {},
   "source": [
    "# PREPROCESSING DATA"
   ]
  },
  {
   "cell_type": "code",
   "execution_count": 13,
   "id": "cb0f910b",
   "metadata": {},
   "outputs": [
    {
     "name": "stderr",
     "output_type": "stream",
     "text": [
      "[nltk_data] Downloading package punkt to\n",
      "[nltk_data]     C:\\Users\\myComputer\\AppData\\Roaming\\nltk_data...\n",
      "[nltk_data]   Package punkt is already up-to-date!\n",
      "[nltk_data] Downloading package averaged_perceptron_tagger to\n",
      "[nltk_data]     C:\\Users\\myComputer\\AppData\\Roaming\\nltk_data...\n",
      "[nltk_data]   Package averaged_perceptron_tagger is already up-to-\n",
      "[nltk_data]       date!\n",
      "[nltk_data] Downloading package wordnet to\n",
      "[nltk_data]     C:\\Users\\myComputer\\AppData\\Roaming\\nltk_data...\n",
      "[nltk_data]   Package wordnet is already up-to-date!\n",
      "[nltk_data] Error loading stopword: Package 'stopword' not found in\n",
      "[nltk_data]     index\n"
     ]
    },
    {
     "data": {
      "text/plain": [
       "False"
      ]
     },
     "execution_count": 13,
     "metadata": {},
     "output_type": "execute_result"
    }
   ],
   "source": [
    "import nltk\n",
    "nltk.download('punkt')\n",
    "nltk.download('averaged_perceptron_tagger')\n",
    "nltk.download('wordnet')\n",
    "nltk.download('stopword')"
   ]
  },
  {
   "cell_type": "code",
   "execution_count": 14,
   "id": "41b1578d",
   "metadata": {},
   "outputs": [],
   "source": [
    "from nltk.stem import WordNetLemmatizer\n",
    "from nltk.corpus import stopwords\n",
    "\n",
    "lematizer = WordNetLemmatizer()"
   ]
  },
  {
   "cell_type": "code",
   "execution_count": 15,
   "id": "1524884a",
   "metadata": {},
   "outputs": [],
   "source": [
    "def preprocessing_sentences(text):\n",
    "    text = text.lower()\n",
    "    words = nltk.word_tokenize(text)\n",
    "    stopword_words = set(stopwords.words('english'))\n",
    "#     my_sent = [lematizer.lemmatize(word) for word in words if word not in stopwords.words('english')]\n",
    "    filtered_words = [word for word in words if word.lower() not in stopword_words]\n",
    "    \n",
    "    finalsent = ' '.join(filtered_words)\n",
    "    \n",
    "    finalsent = finalsent.replace(\"n't\", \" not\")\n",
    "    finalsent = finalsent.replace(\"'m\", \" am\")\n",
    "    finalsent = finalsent.replace(\"'s\", \" is\")\n",
    "    finalsent = finalsent.replace(\"'re\", \" are\")\n",
    "    finalsent = finalsent.replace(\"'ll\", \" will\")\n",
    "    finalsent = finalsent.replace(\"'ve\", \" have\")\n",
    "    finalsent = finalsent.replace(\"'d\", \" would\")\n",
    "    \n",
    "    return finalsent"
   ]
  },
  {
   "cell_type": "code",
   "execution_count": 16,
   "id": "2e527ef4",
   "metadata": {},
   "outputs": [],
   "source": [
    "datasets['description'] = datasets['Plot'].apply(preprocessing_sentences)"
   ]
  },
  {
   "cell_type": "code",
   "execution_count": 17,
   "id": "aa38dbd7",
   "metadata": {},
   "outputs": [
    {
     "data": {
      "text/html": [
       "<div>\n",
       "<style scoped>\n",
       "    .dataframe tbody tr th:only-of-type {\n",
       "        vertical-align: middle;\n",
       "    }\n",
       "\n",
       "    .dataframe tbody tr th {\n",
       "        vertical-align: top;\n",
       "    }\n",
       "\n",
       "    .dataframe thead th {\n",
       "        text-align: right;\n",
       "    }\n",
       "</style>\n",
       "<table border=\"1\" class=\"dataframe\">\n",
       "  <thead>\n",
       "    <tr style=\"text-align: right;\">\n",
       "      <th></th>\n",
       "      <th>Plot</th>\n",
       "      <th>description</th>\n",
       "    </tr>\n",
       "    <tr>\n",
       "      <th>Title</th>\n",
       "      <th></th>\n",
       "      <th></th>\n",
       "    </tr>\n",
       "  </thead>\n",
       "  <tbody>\n",
       "    <tr>\n",
       "      <th>Kansas Saloon Smashers</th>\n",
       "      <td>A bartender is working at a saloon, serving dr...</td>\n",
       "      <td>bartender working saloon , serving drinks cust...</td>\n",
       "    </tr>\n",
       "    <tr>\n",
       "      <th>Love by the Light of the Moon</th>\n",
       "      <td>The moon, painted with a smiling face hangs ov...</td>\n",
       "      <td>moon , painted smiling face hangs park night ....</td>\n",
       "    </tr>\n",
       "    <tr>\n",
       "      <th>The Martyred Presidents</th>\n",
       "      <td>The film, just over a minute long, is composed...</td>\n",
       "      <td>film , minute long , composed two shots . firs...</td>\n",
       "    </tr>\n",
       "    <tr>\n",
       "      <th>Terrible Teddy, the Grizzly King</th>\n",
       "      <td>Lasting just 61 seconds and consisting of two ...</td>\n",
       "      <td>lasting 61 seconds consisting two shots , firs...</td>\n",
       "    </tr>\n",
       "    <tr>\n",
       "      <th>Jack and the Beanstalk</th>\n",
       "      <td>The earliest known adaptation of the classic f...</td>\n",
       "      <td>earliest known adaptation classic fairytale , ...</td>\n",
       "    </tr>\n",
       "    <tr>\n",
       "      <th>...</th>\n",
       "      <td>...</td>\n",
       "      <td>...</td>\n",
       "    </tr>\n",
       "    <tr>\n",
       "      <th>The Water Diviner</th>\n",
       "      <td>The film begins in 1919, just after World War ...</td>\n",
       "      <td>film begins 1919 , world war ended , centres a...</td>\n",
       "    </tr>\n",
       "    <tr>\n",
       "      <th>Çalgı Çengi İkimiz</th>\n",
       "      <td>Two musicians, Salih and Gürkan, described the...</td>\n",
       "      <td>two musicians , salih gürkan , described adven...</td>\n",
       "    </tr>\n",
       "    <tr>\n",
       "      <th>Olanlar Oldu</th>\n",
       "      <td>Zafer, a sailor living with his mother Döndü i...</td>\n",
       "      <td>zafer , sailor living mother döndü coastal vil...</td>\n",
       "    </tr>\n",
       "    <tr>\n",
       "      <th>Non-Transferable</th>\n",
       "      <td>The film centres around a young woman named Am...</td>\n",
       "      <td>film centres around young woman named amy tyle...</td>\n",
       "    </tr>\n",
       "    <tr>\n",
       "      <th>İstanbul Kırmızısı</th>\n",
       "      <td>The writer Orhan Şahin returns to İstanbul aft...</td>\n",
       "      <td>writer orhan şahin returns i̇stanbul many year...</td>\n",
       "    </tr>\n",
       "  </tbody>\n",
       "</table>\n",
       "<p>34886 rows × 2 columns</p>\n",
       "</div>"
      ],
      "text/plain": [
       "                                                                               Plot  \\\n",
       "Title                                                                                 \n",
       "Kansas Saloon Smashers            A bartender is working at a saloon, serving dr...   \n",
       "Love by the Light of the Moon     The moon, painted with a smiling face hangs ov...   \n",
       "The Martyred Presidents           The film, just over a minute long, is composed...   \n",
       "Terrible Teddy, the Grizzly King  Lasting just 61 seconds and consisting of two ...   \n",
       "Jack and the Beanstalk            The earliest known adaptation of the classic f...   \n",
       "...                                                                             ...   \n",
       "The Water Diviner                 The film begins in 1919, just after World War ...   \n",
       "Çalgı Çengi İkimiz                Two musicians, Salih and Gürkan, described the...   \n",
       "Olanlar Oldu                      Zafer, a sailor living with his mother Döndü i...   \n",
       "Non-Transferable                  The film centres around a young woman named Am...   \n",
       "İstanbul Kırmızısı                The writer Orhan Şahin returns to İstanbul aft...   \n",
       "\n",
       "                                                                        description  \n",
       "Title                                                                                \n",
       "Kansas Saloon Smashers            bartender working saloon , serving drinks cust...  \n",
       "Love by the Light of the Moon     moon , painted smiling face hangs park night ....  \n",
       "The Martyred Presidents           film , minute long , composed two shots . firs...  \n",
       "Terrible Teddy, the Grizzly King  lasting 61 seconds consisting two shots , firs...  \n",
       "Jack and the Beanstalk            earliest known adaptation classic fairytale , ...  \n",
       "...                                                                             ...  \n",
       "The Water Diviner                 film begins 1919 , world war ended , centres a...  \n",
       "Çalgı Çengi İkimiz                two musicians , salih gürkan , described adven...  \n",
       "Olanlar Oldu                      zafer , sailor living mother döndü coastal vil...  \n",
       "Non-Transferable                  film centres around young woman named amy tyle...  \n",
       "İstanbul Kırmızısı                writer orhan şahin returns i̇stanbul many year...  \n",
       "\n",
       "[34886 rows x 2 columns]"
      ]
     },
     "execution_count": 17,
     "metadata": {},
     "output_type": "execute_result"
    }
   ],
   "source": [
    "datasets"
   ]
  },
  {
   "cell_type": "markdown",
   "id": "2845a60d",
   "metadata": {},
   "source": [
    "# Modeling TFIDF"
   ]
  },
  {
   "cell_type": "code",
   "execution_count": 23,
   "id": "70e2555c",
   "metadata": {},
   "outputs": [],
   "source": [
    "from sklearn.feature_extraction.text import TfidfVectorizer\n",
    "from sklearn.metrics.pairwise import cosine_similarity\n",
    "\n",
    "        \n",
    "# tfidf = TfidfVectorizer()\n",
    "# tfidf_movieid = tfidf.fit_transform((datasets['description']))\n",
    "# similarity = cosine_similarity(tfidf_movieid, tfidf_movieid)"
   ]
  },
  {
   "cell_type": "code",
   "execution_count": null,
   "id": "7ff9b519",
   "metadata": {},
   "outputs": [],
   "source": []
  },
  {
   "cell_type": "code",
   "execution_count": 25,
   "id": "228daf38",
   "metadata": {},
   "outputs": [],
   "source": [
    "subset_data = datasets['description'][:10000]\n",
    "\n",
    "tfidf = TfidfVectorizer()\n",
    "tfidf_movieid = tfidf.fit_transform(subset_data)\n",
    "similarity = cosine_similarity(tfidf_movieid, tfidf_movieid)"
   ]
  },
  {
   "cell_type": "code",
   "execution_count": 26,
   "id": "37db369a",
   "metadata": {},
   "outputs": [],
   "source": [
    "indices = pd.Series(datasets.index)\n",
    "def recommendation(title, cosine_sim = similarity):\n",
    "    try:\n",
    "        index = indices[indices==title].index[0]\n",
    "        similarity_scores = pd.Series(cosine_sim[index]).sort_values(ascending=False)\n",
    "        top = list(similarity_scores.iloc[1:11].index)\n",
    "        recommendation_movies = [list(datasets.index)[i] for i in top]\n",
    "        return recommendation_movies\n",
    "    except:\n",
    "        print(\"No movie found\")"
   ]
  },
  {
   "cell_type": "markdown",
   "id": "97c9b276",
   "metadata": {},
   "source": [
    "# TESTING MODEL"
   ]
  },
  {
   "cell_type": "code",
   "execution_count": 30,
   "id": "5b6835d9",
   "metadata": {},
   "outputs": [
    {
     "data": {
      "text/plain": [
       "Title\n",
       "Kansas Saloon Smashers                               bartender working saloon , serving drinks cust...\n",
       "Love by the Light of the Moon                        moon , painted smiling face hangs park night ....\n",
       "The Martyred Presidents                              film , minute long , composed two shots . firs...\n",
       "Terrible Teddy, the Grizzly King                     lasting 61 seconds consisting two shots , firs...\n",
       "Jack and the Beanstalk                               earliest known adaptation classic fairytale , ...\n",
       "Alice in Wonderland                                  alice follows large white rabbit `` rabbit-hol...\n",
       "The Great Train Robbery                              film opens two bandits breaking railroad teleg...\n",
       "The Suburbanite                                      film family move suburbs , hoping quiet life ....\n",
       "The Little Train Robbery                             opening scene shows interior robbers ' den . w...\n",
       "The Night Before Christmas                           scenes introduced using lines poem . [ 2 ] san...\n",
       "Dream of a Rarebit Fiend                             rarebit fiend gorges welsh rarebit restaurant ...\n",
       "From Leadville to Aspen: A Hold-Up in the Rockies    film features train traveling rockies hold cre...\n",
       "Kathleen Mavourneen                                  irish villager kathleen tenant captain clearfi...\n",
       "Daniel Boone                                         boone  is daughter befriends indian maiden boo...\n",
       "How Brown Saw the Baseball Game                      heading baseball game nearby ballpark , sports...\n",
       "Laughing Gas                                         plot black woman going dentist toothache given...\n",
       "The Adventures of Dollie                             beautiful summer day father mother take daught...\n",
       "The Black Viper                                      thug accosts girl leaves workplace man rescues...\n",
       "A Calamitous Elopement                               young couple decides elope caught midst romant...\n",
       "The Call of the Wild                                 white girl ( florence lawrence ) rejects propo...\n",
       "Name: description, dtype: object"
      ]
     },
     "execution_count": 30,
     "metadata": {},
     "output_type": "execute_result"
    }
   ],
   "source": [
    "subset_data.head(20)"
   ]
  },
  {
   "cell_type": "code",
   "execution_count": 36,
   "id": "d03e4a3e",
   "metadata": {},
   "outputs": [
    {
     "data": {
      "text/plain": [
       "['Laughing Gas',\n",
       " 'Laughing Boy',\n",
       " 'Life with Tom',\n",
       " 'Children of the Ritz',\n",
       " 'Claudia',\n",
       " 'The Masquerader',\n",
       " 'The Night of Nights',\n",
       " 'The Crowd',\n",
       " 'Little Annie Rooney',\n",
       " \"All the World's a Stooge\"]"
      ]
     },
     "execution_count": 36,
     "metadata": {},
     "output_type": "execute_result"
    }
   ],
   "source": [
    "recommendation(\"Laughing Gas\")"
   ]
  },
  {
   "cell_type": "code",
   "execution_count": null,
   "id": "75ba2959",
   "metadata": {},
   "outputs": [],
   "source": []
  },
  {
   "cell_type": "code",
   "execution_count": null,
   "id": "e7a9c418",
   "metadata": {},
   "outputs": [],
   "source": []
  }
 ],
 "metadata": {
  "kernelspec": {
   "display_name": "Python 3 (ipykernel)",
   "language": "python",
   "name": "python3"
  },
  "language_info": {
   "codemirror_mode": {
    "name": "ipython",
    "version": 3
   },
   "file_extension": ".py",
   "mimetype": "text/x-python",
   "name": "python",
   "nbconvert_exporter": "python",
   "pygments_lexer": "ipython3",
   "version": "3.9.13"
  }
 },
 "nbformat": 4,
 "nbformat_minor": 5
}
