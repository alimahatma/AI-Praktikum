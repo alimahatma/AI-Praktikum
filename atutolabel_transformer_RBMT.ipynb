{
  "nbformat": 4,
  "nbformat_minor": 0,
  "metadata": {
    "colab": {
      "provenance": [],
      "gpuType": "T4",
      "cell_execution_strategy": "setup",
      "private_outputs": true,
      "authorship_tag": "ABX9TyOH7Jk/Bbl0NVbzmL7nyW/6",
      "include_colab_link": true
    },
    "kernelspec": {
      "name": "python3",
      "display_name": "Python 3"
    },
    "language_info": {
      "name": "python"
    },
    "accelerator": "GPU"
  },
  "cells": [
    {
      "cell_type": "markdown",
      "metadata": {
        "id": "view-in-github",
        "colab_type": "text"
      },
      "source": [
        "<a href=\"https://colab.research.google.com/github/alimahatma/AI-Praktikum/blob/main/atutolabel_transformer_RBMT.ipynb\" target=\"_parent\"><img src=\"https://colab.research.google.com/assets/colab-badge.svg\" alt=\"Open In Colab\"/></a>"
      ]
    },
    {
      "cell_type": "code",
      "execution_count": null,
      "metadata": {
        "id": "FGkQLX4xqG3A"
      },
      "outputs": [],
      "source": [
        "!pip install transformers"
      ]
    },
    {
      "cell_type": "code",
      "source": [
        "!pip install googletrans==3.1.0a0"
      ],
      "metadata": {
        "id": "4EoM_tZuq_8-"
      },
      "execution_count": null,
      "outputs": []
    },
    {
      "cell_type": "code",
      "source": [
        "import pandas as pd\n",
        "import numpy as np\n",
        "import re"
      ],
      "metadata": {
        "id": "Lewd1N4MrcET"
      },
      "execution_count": null,
      "outputs": []
    },
    {
      "cell_type": "code",
      "source": [
        "from google.colab import drive"
      ],
      "metadata": {
        "id": "Dhd_Bhd1SlJG"
      },
      "execution_count": null,
      "outputs": []
    },
    {
      "cell_type": "code",
      "source": [
        "drive.mount('/content/drive')"
      ],
      "metadata": {
        "id": "VuSjgzhISp6s"
      },
      "execution_count": null,
      "outputs": []
    },
    {
      "cell_type": "code",
      "source": [
        "data_path = '/content/drive/My Drive/Colab Notebooks/step-by-step-transformers/datasets/GojekAppReviewV4.0.0-V4.9.3_Cleaned.csv'"
      ],
      "metadata": {
        "id": "dRwfcfekrrVa"
      },
      "execution_count": null,
      "outputs": []
    },
    {
      "cell_type": "code",
      "source": [
        "data = pd.read_csv(data_path)\n",
        "data.sample(10)"
      ],
      "metadata": {
        "id": "Tg1LvPJzs-ri"
      },
      "execution_count": null,
      "outputs": []
    },
    {
      "cell_type": "code",
      "source": [
        "print(f'Jumlah Data: {data.shape}')"
      ],
      "metadata": {
        "id": "amN73hGMtFxZ"
      },
      "execution_count": null,
      "outputs": []
    },
    {
      "cell_type": "code",
      "source": [
        "total_rows = len(data)\n",
        "total_rows"
      ],
      "metadata": {
        "id": "NCWYIyyMuupW"
      },
      "execution_count": null,
      "outputs": []
    },
    {
      "cell_type": "code",
      "source": [
        "chunk_size = total_rows // 25\n",
        "chunk_size"
      ],
      "metadata": {
        "id": "HYr8tKVWz20g"
      },
      "execution_count": null,
      "outputs": []
    },
    {
      "cell_type": "code",
      "source": [
        "chunks = [data.iloc[i:i+chunk_size] for i in range(0, total_rows, chunk_size)]\n",
        "for i in range(25):\n",
        "    globals()[f'data{i+1}'] = chunks[i]"
      ],
      "metadata": {
        "id": "z3E24Nedz3A1"
      },
      "execution_count": null,
      "outputs": []
    },
    {
      "cell_type": "code",
      "source": [
        "data24.sample(3)"
      ],
      "metadata": {
        "id": "073rrKoO0k-Q"
      },
      "execution_count": null,
      "outputs": []
    },
    {
      "cell_type": "code",
      "source": [],
      "metadata": {
        "id": "ly1Pm6gGz3GM"
      },
      "execution_count": null,
      "outputs": []
    },
    {
      "cell_type": "code",
      "source": [
        "from googletrans.client import Translator\n",
        "translator = Translator()\n",
        "\n",
        "\n",
        "from transformers import pipeline\n",
        "sentiment_classfifier = pipeline('sentiment-analysis')"
      ],
      "metadata": {
        "id": "Hpc5B-BNtatj"
      },
      "execution_count": null,
      "outputs": []
    },
    {
      "cell_type": "code",
      "source": [
        "def clean_tweet(tweet):\n",
        "  return ' '.join(re.sub(\"(@[A-Za-z0-9]+)|([^0-9A-Za-z \\t])|(\\w+:\\/\\/\\s+)\",\" \", tweet).split())"
      ],
      "metadata": {
        "id": "fM5XW5YTtsyf"
      },
      "execution_count": null,
      "outputs": []
    },
    {
      "cell_type": "code",
      "source": [],
      "metadata": {
        "id": "7RnKl1lk6C0m"
      },
      "execution_count": null,
      "outputs": []
    },
    {
      "cell_type": "code",
      "source": [
        "data25['text'] = data25['content'].str.encode('ascii','ignore').apply(translator.translate, src='id', dest='en')\n",
        "data25['label']= data25['text'].apply(getattr, args=('text',))\n",
        "\n",
        "data25['label'] =data25.apply(lambda x: clean_tweet(x['label']), axis=1)"
      ],
      "metadata": {
        "id": "44ew8eqhvmRv"
      },
      "execution_count": null,
      "outputs": []
    },
    {
      "cell_type": "code",
      "source": [
        "data25.head()"
      ],
      "metadata": {
        "id": "zOorTUfQzGX5"
      },
      "execution_count": null,
      "outputs": []
    },
    {
      "cell_type": "code",
      "source": [
        "df = (\n",
        "    data25\n",
        "    .assign(sentiment = lambda x: x['label'].apply(lambda s: sentiment_classfifier(s)))\n",
        "    .assign(\n",
        "        label = lambda x: x['sentiment'].apply(lambda s: (s[0])['label']),\n",
        "        score = lambda x: x['sentiment'].apply(lambda s: (s[0])['score']),\n",
        "    )\n",
        ")"
      ],
      "metadata": {
        "id": "g6ZC8rvqzqaP"
      },
      "execution_count": null,
      "outputs": []
    },
    {
      "cell_type": "code",
      "source": [
        "df.sample(10)"
      ],
      "metadata": {
        "id": "bjuNxOhd1t6o"
      },
      "execution_count": null,
      "outputs": []
    },
    {
      "cell_type": "code",
      "source": [],
      "metadata": {
        "id": "MRKmwju87-QF"
      },
      "execution_count": null,
      "outputs": []
    },
    {
      "cell_type": "code",
      "source": [
        "data_save = df.to_csv('df25.csv', index=False)"
      ],
      "metadata": {
        "id": "VFfiW9Pq1x5k"
      },
      "execution_count": null,
      "outputs": []
    },
    {
      "cell_type": "code",
      "source": [
        "from google.colab import files\n",
        "files.download('df25.csv')"
      ],
      "metadata": {
        "id": "xtMjzvx66s5G"
      },
      "execution_count": null,
      "outputs": []
    },
    {
      "cell_type": "code",
      "source": [],
      "metadata": {
        "id": "_3jv3tkoRjET"
      },
      "execution_count": null,
      "outputs": []
    }
  ]
}